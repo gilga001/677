{
 "cells": [
  {
   "cell_type": "code",
   "execution_count": 1,
   "metadata": {
    "collapsed": true
   },
   "outputs": [],
   "source": [
    "!cypress-kinit"
   ]
  },
  {
   "cell_type": "code",
   "execution_count": null,
   "metadata": {
    "collapsed": true,
    "scrolled": true
   },
   "outputs": [],
   "source": [
    "!cat ./data/ch2oh_dump_1ns.lammpstrj | head -n 2030 > ch2oh_short.lammpstrj"
   ]
  },
  {
   "cell_type": "code",
   "execution_count": null,
   "metadata": {
    "collapsed": true
   },
   "outputs": [],
   "source": [
    "! head -n 2030 ./data/ch2oh_dump_1ns.lammpstrj  > ch2oh_short.lammpstrj "
   ]
  },
  {
   "cell_type": "code",
   "execution_count": null,
   "metadata": {
    "collapsed": true
   },
   "outputs": [],
   "source": [
    "!hdfs dfs -copyFromLocal ./ch2oh_short.lammpstrj 677project/data"
   ]
  },
  {
   "cell_type": "code",
   "execution_count": 2,
   "metadata": {},
   "outputs": [
    {
     "name": "stdout",
     "output_type": "stream",
     "text": [
      "Overwriting codes/Mapper01.py\n"
     ]
    }
   ],
   "source": [
    "%%writefile codes/Mapper01.py\n",
    "#!/usr/bin/env python\n",
    "\n",
    "import sys\n",
    "import string\n",
    "import math\n",
    "import re\n",
    "\n",
    "\n",
    "class Atom(object):\n",
    "\n",
    "    def __init__(self, atom_id,\n",
    "                 atom_type, atom_x, atom_y, atom_z):\n",
    "        self.atom_id = atom_id\n",
    "        self.atom_type = atom_type\n",
    "        self.atom_x = atom_x\n",
    "        self.atom_y = atom_y\n",
    "        self.atom_z = atom_z\n",
    "\n",
    "class BoxBounds(object):\n",
    "\n",
    "    def __init__(self, bounds_xyz1,\n",
    "                 bounds_xyz2, bounds_xyz3):\n",
    "        self.bounds_xyz1 = bounds_xyz1\n",
    "        self.bounds_xyz2 = bounds_xyz2\n",
    "        self.bounds_xyz3 = bounds_xyz3\n",
    "\n",
    "class Calculation(object):\n",
    "\n",
    "    rC = [5]                                                                                                           \n",
    "    rHS = [3, 4]                                                                                                            \n",
    "    rOS = [6]\n",
    "    rHW = [1]\n",
    "    rOW = [2]\n",
    "\n",
    "    def __init__(self, a, b, c, cosalpha, cosbeta, cosgamma):\n",
    "        self.a = a\n",
    "        self.b = b\n",
    "        self.c = c\n",
    "        self.cosalpha = cosalpha\n",
    "        self.cosbeta = cosbeta\n",
    "        self.cosgamma = cosgamma\n",
    "       \n",
    "\n",
    "    def init(self, items):\n",
    "        temp = []\n",
    "        coords_replica = {}  # the real coords that are used, one of the 9 replica\n",
    "        x = []\n",
    "        tmp = []\n",
    "        OW = []\n",
    "        h1 = h2 = o1 = o2 = [None] * 100000   # at least 8 times larger than one box h2o atoms.\n",
    "        #for j in range(len(items)):\n",
    "         #   temp = [float(n) for n in items[j]]\n",
    "          #  x.append(temp)\n",
    "        x = items\n",
    "\n",
    "        #for i in range(len(x)):\n",
    "         #   x[i][0] = int(x[i][0])\n",
    "          #  x[i][1] = int(x[i][1])\n",
    "           # x[i][2] = x[i][2] #+ 1 - x[0][2]\n",
    "            #x[i][3] = x[i][3] #- x[0][3]\n",
    "            #x[i][4] = x[i][4] #- x[0][4]\n",
    "\n",
    "        h1 = self.findNonperiodic (self.rHS,x)   # item# and x, y, z for each h1 or h2 or o1 or o2\n",
    "        h2 = self.find (self.rHW,x)   # item# and x, y, z for each h1 or h2 or o1 or o2\n",
    "        o1 = self.findNonperiodic (self.rOS,x)   # item# and x, y, z for each h1 or h2 or o1 or o2\n",
    "        o2 = self.find (self.rOW,x)   # item# and x, y, z for each h1 or h2 or o1 or o2\n",
    "        h1 = [k for k in h1 if k != None]  #h1\n",
    "        h2 = [k for k in h2 if k != None]  #h2\n",
    "        o1 = [k for k in o1 if k != None]  #o1\n",
    "        o2 = [k for k in o2 if k != None]  #o2\n",
    "        \n",
    "        leno1 = len(o1)\n",
    "        leno2 = len(o2)\n",
    "\n",
    "        #print(\"abc\",self.a, self.b, self.c, self.cosalpha, self.cosbeta, self.cosgamma)\n",
    "\n",
    "        for i in range(len(o1)):\n",
    "            for j in range(len(o2)):\n",
    "                do1o2 = self.dist(o1[i], o2[j])\n",
    "                #print(do1o2)\n",
    "                if do1o2 <= float(12.25):\n",
    "                    for l in range(len(h2)):\n",
    "                        do2h2 = self.dist(o2[j],h2[l])\n",
    "                        if do2h2<=1.2:\n",
    "                            do1h2 = self.dist(o1[i] , h2[l])\n",
    "                            A1 = self.ang( do1o2 , do1h2, do2h2)\n",
    "                            A2 = self.ang( do2h2 , do1h2, do1o2)\n",
    "                            # if A2>=120:\n",
    "                            if A1<=30 and A2>=120 and do1h2<=6.25:\n",
    "                                for n in range(len(h2)):\n",
    "                                    if self.dist(o2[j], h2[n])<=1.2:\n",
    "                                        tmp.append((o2[j][4],h2[n][4]))\n",
    "                                        if (o2[j][4] not in coords_replica.keys()):\n",
    "                                            coords_replica[o2[j][4]] = (o2[j][1],o2[j][2],o2[j][3])  # save found O, H coords, x y z\n",
    "                                        if (h2[n][4] not in coords_replica.keys()):\n",
    "                                            coords_replica[h2[n][4]] = (h2[n][1],h2[n][2],h2[n][3])  # save found O, H coords, x y z\n",
    "                    for l in range(len(h1)):\n",
    "                        do1h1 = self.dist(o1[i],h1[l])\n",
    "                        if do1h1<=1.2:\n",
    "                            do2h1 = self.dist(o2[j] , h1[l])\n",
    "                            # print do1h1,do1o2,do2h1\n",
    "                            A1 = self.ang( do1o2 , do2h1, do1h1 )\n",
    "                            A2 = self.ang( do1h1 ,do2h1, do1o2 )\n",
    "                            # if  A2>=120:\n",
    "                            if  A1<=30 and A2>=120 and do2h1<=6.25:\n",
    "                                for m in range(len(h2)):\n",
    "                                    if self.dist(o2[j],h2[m])<=1.2:  # output HBed Ow and corresponed Hw. At least two pairs, Ow-Hw1 AND Ow-Hw2\n",
    "                                        tmp.append((o2[j][4],h2[m][4])) # o2[j][4] is j line with item# ([4], already reordered\n",
    "                                        if (o2[j][4] not in coords_replica.keys()):\n",
    "                                            coords_replica[o2[j][4]] = (o2[j][1],o2[j][2],o2[j][3])  # save found O, H coords, x y z\n",
    "                                        if (h2[m][4] not in coords_replica.keys()):\n",
    "                                            coords_replica[h2[m][4]] = (h2[m][1],h2[m][2],h2[m][3])  # save found O, H coords, x y z\n",
    "        tmp = list(set(tmp))   # convert 2 lines(2 pairs in 1 h2o mlc: Ow-Hw1 AND Ow-Hw2) to 1 lines: Ow Hw1 Hw2, thus deletes repeating Ow\n",
    "        for p in range(len(tmp)):\n",
    "            for q in range(p+1,len(tmp)):  # set the repeated value to -1\n",
    "                if(tmp[p][0] == tmp[q][0] and tmp[p][1] == tmp[q][1]):\n",
    "                    tmp[q][0]= -1\n",
    "            for t in range(p+1, len(tmp)):\n",
    "                if(tmp[t][0]>0 and tmp[p][0] == tmp[t][0]):\n",
    "                    OW.append((tmp[p][0],tmp[p][1],tmp[t][1]))\n",
    "                    #print tmp[p][0],tmp[p][1],tmp[t][1]\n",
    "                #    print (coords_replica)\n",
    "        return OW, coords_replica\n",
    "\n",
    "    def dist(self, X, Y):\n",
    "        x1 = X[1]\n",
    "        x2 = Y[1]\n",
    "        y1 = X[2]\n",
    "        y2 = Y[2]\n",
    "        z1 = X[3]\n",
    "        z2 = Y[3]\n",
    "        return 2*(x1-x2)*(y1-y2)*self.a*self.b*self.cosgamma + \\\n",
    "               2*(y1-y2)*(z1-z2)*self.b*self.c*self.cosalpha + \\\n",
    "               2*(x1-x2)*(z1-z2)*self.a*self.c*self.cosbeta + \\\n",
    "               (x1-x2)*(x1-x2)*self.a*self.a + \\\n",
    "               (y1-y2)*(y1-y2)*self.b*self.b + (z1-z2)*(z1-z2)*self.c*self.c\n",
    "\n",
    "    def ang(self,d1,d2,d3):# Note: square of the distances\n",
    "        return math.degrees(math.acos((d1 + d2 - d3)/(2.0 * math.sqrt(d1) * math.sqrt(d2))))\n",
    "\n",
    "    def findNonperiodic(self, y, atoms):\n",
    "        x=grab= [None] * 100000\n",
    "        i = 0\n",
    "        for atom in atoms:\n",
    "            grab = ((atom.atom_type,atom.atom_x,atom.atom_y,atom.atom_z,atom.atom_id))\n",
    "            for j in range(len(y)):\n",
    "                if grab[0] == y[j]:\n",
    "                    x[i]=grab\n",
    "            i += 1\n",
    "        #print(\"findNon x:\", x)\n",
    "        return (x)\n",
    "\n",
    "\n",
    "        #below is periodic boundary #\n",
    "    def find(self,y,atoms):\n",
    "        x=grab= grabxp = grabxn = grabyp = grabyn = grabxpyp = grabxnyn = grabxnyp = grabxpyn = [None] * 100000\n",
    "        i = 0\n",
    "        for atom in atoms:\n",
    "            grab = ((atom.atom_type,atom.atom_x,atom.atom_y,atom.atom_z,atom.atom_id))\n",
    "            grabxp = ((atom.atom_type,atom.atom_x + 1,atom.atom_y,atom.atom_z,atom.atom_id))\n",
    "            grabxn = ((atom.atom_type,atom.atom_x - 1,atom.atom_y,atom.atom_z,atom.atom_id))\n",
    "            grabyp = ((atom.atom_type,atom.atom_x,atom.atom_y + 1,atom.atom_z,atom.atom_id))\n",
    "            grabyn = ((atom.atom_type,atom.atom_x,atom.atom_y - 1,atom.atom_z,atom.atom_id))\n",
    "            grabxpyp = ((atom.atom_type,atom.atom_x + 1,atom.atom_y + 1,atom.atom_z,atom.atom_id))\n",
    "            grabxpyn = ((atom.atom_type,atom.atom_x + 1,atom.atom_y - 1,atom.atom_z,atom.atom_id))\n",
    "            grabxnyp = ((atom.atom_type,atom.atom_x - 1,atom.atom_y + 1,atom.atom_z,atom.atom_id))\n",
    "            grabxnyn = ((atom.atom_type,atom.atom_x - 1,atom.atom_y - 1,atom.atom_z,atom.atom_id))\n",
    "            for j in range(len(y)):\n",
    "                if grab[0] == y[j]:\n",
    "                    x[9*i+0]=grab\n",
    "                    x[9*i+1]=grabxp\n",
    "                    x[9*i+2]=grabxn\n",
    "                    x[9*i+3]=grabyp\n",
    "                    x[9*i+4]=grabyn\n",
    "                    x[9*i+5]=grabxpyp\n",
    "                    x[9*i+6]=grabxpyn\n",
    "                    x[9*i+7]=grabxnyp\n",
    "                    x[9*i+8]=grabxnyn\n",
    "            i += 1\n",
    "        #print(\"find x:\", x)\n",
    "        return (x)\n",
    "\n",
    "    def coor(self, xlo, xhi, xy, ylo, yhi, xz, zlo, zhi, yz):  # calculate a,b,c,cosalpha,cosbeta,cosgamma\n",
    "        data = [None] * 6\n",
    "        xlo_bound = float(xlo)\n",
    "        xhi_bound = float(xhi)\n",
    "        xy =  float(xy)\n",
    "        ylo_bound =  float(ylo)\n",
    "        yhi_bound =  float(yhi)\n",
    "        xz =  float(xz)\n",
    "        zlo =  float(zlo)\n",
    "        zhi =  float(zhi)\n",
    "        yz =  float(yz)\n",
    "        xlo = xlo_bound - min(0.0,xy,xz,xy+xz)\n",
    "        xhi = xhi_bound - max(0.0,xy,xz,xy+xz)\n",
    "        ylo = ylo_bound - min(0.0,yz)\n",
    "        yhi = yhi_bound - max(0.0,yz)\n",
    "        lx = xhi-xlo\n",
    "        ly = yhi-ylo\n",
    "        lz = zhi-zlo\n",
    "        self.a = lx   #a\n",
    "        self.b = math.sqrt(ly*ly+xy*xy)   #b\n",
    "        self.c = math.sqrt(lz*lz+xz*xz+yz*yz)  #c\n",
    "        self.cosalpha = (xy*xz+ly*yz)/self.b/self.c   #cosalpha\n",
    "        self.cosbeta = xz/self.c    #cosbeta\n",
    "        self.cosgamma = xy/self.b   #cosgamma\n",
    "\n",
    "#Main\n",
    "id = -1\n",
    "linecount = 0\n",
    "xyz1 = []\n",
    "xyz2 = []\n",
    "xyz3 = []\n",
    "timestep = -1\n",
    "num_of_atoms = -1\n",
    "atoms_list = []\n",
    "\n",
    "for line in sys.stdin:\n",
    "    #id += 1\n",
    "    #print(id, frame)\n",
    "    \n",
    "    line = line.strip()\n",
    "    if linecount == 1:\n",
    "        timestep = line\n",
    "    if linecount == 3:\n",
    "        num_of_atoms = line\n",
    "    if linecount == 5:\n",
    "        xyz1 = line.split()\n",
    "        if len(xyz1) < 4:\n",
    "            xyz1.append('0.0')\n",
    "    if linecount == 6:\n",
    "        xyz2 = line.split()\n",
    "        if len(xyz2) < 4:\n",
    "            xyz2.append('0.0')\n",
    "    if linecount == 7:\n",
    "        xyz3 = line.split()\n",
    "        if len(xyz3) < 4:\n",
    "            xyz3.append('0.0')\n",
    "    if linecount > 8:\n",
    "        atom = line.split()\n",
    "        atoms_list.append(Atom(int(atom[1]), int(atom[2]), float(atom[3]), float(atom[4]), float(atom[5])))\n",
    "    \n",
    "    linecount += 1\n",
    "    \n",
    "    \n",
    "    #if id > 202:\n",
    "        #break\n",
    "        \n",
    "    \n",
    "c = Calculation(0.0,0.0,0.0,0.0,0.0,0.0)#init a,b,c,cosalpha,cosbeta,cosgamma\n",
    "xlo = xyz1[1]\n",
    "xhi = xyz1[2]\n",
    "xy = xyz1[3]\n",
    "ylo = xyz2[1]\n",
    "yhi = xyz2[2]\n",
    "xz = xyz2[3]\n",
    "zlo = xyz3[1]\n",
    "zhi = xyz3[2]\n",
    "yz = xyz3[3]\n",
    "#do calculation\n",
    "c.coor(xlo, xhi, xy, ylo, yhi, xz, zlo, zhi, yz)\n",
    "hb_list, real_coords = c.init(atoms_list)\n",
    "hb_length = len(hb_list)\n",
    "    \n",
    "print (\"%s$%s$%s$%s\" % (timestep,hb_length, hb_list, real_coords))"
   ]
  },
  {
   "cell_type": "code",
   "execution_count": null,
   "metadata": {
    "collapsed": true
   },
   "outputs": [],
   "source": [
    "!cat data/ch2oh_dump_1ns.lammpstrj | python codes/Mapper01.py | sort | python codes/Reducer01.py"
   ]
  },
  {
   "cell_type": "code",
   "execution_count": null,
   "metadata": {
    "collapsed": true
   },
   "outputs": [],
   "source": [
    "!chmod 777 ."
   ]
  },
  {
   "cell_type": "code",
   "execution_count": 3,
   "metadata": {},
   "outputs": [
    {
     "name": "stdout",
     "output_type": "stream",
     "text": [
      "Overwriting codes/Reducer01.py\n"
     ]
    }
   ],
   "source": [
    "%%writefile codes/Reducer01.py\n",
    "#!/usr/bin/env python\n",
    "import sys\n",
    "import math\n",
    "\n",
    "num_list = []\n",
    "\n",
    "for line in sys.stdin:\n",
    "    line = line.strip()\n",
    "    elements = line.split(\"$\")\n",
    "    num_list.append(float(elements[1]))\n",
    "    print(\"%s\\t%s\\t%s\\t%s\" % (elements[0], elements[1],elements[2], elements[3] ))\n",
    "\n",
    "avgHB = sum(num_list)/float(len(num_list))\n",
    "\n",
    "print(\"%s\" % avgHB)\n",
    "    "
   ]
  },
  {
   "cell_type": "code",
   "execution_count": 1,
   "metadata": {},
   "outputs": [
    {
     "name": "stdout",
     "output_type": "stream",
     "text": [
      "rm: `677project/output/hadoopoutput/dump.ch2oh99_prod.lammpstrj': No such file or directory\n",
      "17/12/02 10:36:03 WARN streaming.StreamJob: -file option is deprecated, please use generic option -files instead.\n",
      "17/12/02 10:36:04 WARN streaming.StreamJob: -jobconf option is deprecated, please use -D instead.\n",
      "packageJobJar: [./codes/Mapper01.py, ./codes/Reducer01.py] [/usr/hdp/2.6.0.3-8/hadoop-mapreduce/hadoop-streaming-2.7.3.2.6.0.3-8.jar] /hadoop_java_io_tmpdir/streamjob7441441949339454114.jar tmpDir=null\n",
      "17/12/02 10:36:05 INFO client.AHSProxy: Connecting to Application History server at dscim003.palmetto.clemson.edu/10.125.8.215:10200\n",
      "17/12/02 10:36:06 INFO client.AHSProxy: Connecting to Application History server at dscim003.palmetto.clemson.edu/10.125.8.215:10200\n",
      "17/12/02 10:36:06 INFO hdfs.DFSClient: Created HDFS_DELEGATION_TOKEN token 17640 for yli25 on ha-hdfs:dsci\n",
      "17/12/02 10:36:06 INFO security.TokenCache: Got dt for hdfs://dsci; Kind: HDFS_DELEGATION_TOKEN, Service: ha-hdfs:dsci, Ident: (HDFS_DELEGATION_TOKEN token 17640 for yli25)\n",
      "17/12/02 10:36:07 INFO mapred.FileInputFormat: Total input paths to process : 1\n",
      "17/12/02 10:37:56 INFO mapreduce.JobSubmitter: number of splits:90001\n",
      "17/12/02 10:37:56 INFO mapreduce.JobSubmitter: Submitting tokens for job: job_1511291493821_0324\n",
      "17/12/02 10:37:56 INFO mapreduce.JobSubmitter: Kind: HDFS_DELEGATION_TOKEN, Service: ha-hdfs:dsci, Ident: (HDFS_DELEGATION_TOKEN token 17640 for yli25)\n",
      "17/12/02 10:37:57 INFO impl.TimelineClientImpl: Timeline service address: http://dscim003.palmetto.clemson.edu:8188/ws/v1/timeline/\n",
      "17/12/02 10:37:57 INFO impl.YarnClientImpl: Submitted application application_1511291493821_0324\n",
      "17/12/02 10:37:57 INFO mapreduce.Job: The url to track the job: http://dscim001.palmetto.clemson.edu:8088/proxy/application_1511291493821_0324/\n",
      "17/12/02 10:37:57 INFO mapreduce.Job: Running job: job_1511291493821_0324\n",
      "17/12/02 10:38:04 INFO mapreduce.Job: Job job_1511291493821_0324 running in uber mode : false\n",
      "17/12/02 10:38:04 INFO mapreduce.Job:  map 0% reduce 0%\n",
      "17/12/02 10:40:11 INFO mapreduce.Job:  map 1% reduce 0%\n",
      "17/12/02 10:44:12 INFO mapreduce.Job:  map 2% reduce 0%\n",
      "17/12/02 10:48:15 INFO mapreduce.Job:  map 3% reduce 0%\n",
      "17/12/02 10:52:20 INFO mapreduce.Job:  map 4% reduce 0%\n",
      "17/12/02 10:56:20 INFO mapreduce.Job:  map 5% reduce 0%\n",
      "17/12/02 11:00:34 INFO mapreduce.Job:  map 6% reduce 0%\n",
      "17/12/02 11:05:03 INFO mapreduce.Job:  map 7% reduce 0%\n",
      "17/12/02 11:09:27 INFO mapreduce.Job:  map 8% reduce 0%\n",
      "17/12/02 11:13:50 INFO mapreduce.Job:  map 9% reduce 0%\n",
      "17/12/02 11:18:13 INFO mapreduce.Job:  map 10% reduce 0%\n",
      "17/12/02 11:22:37 INFO mapreduce.Job:  map 11% reduce 0%\n",
      "17/12/02 11:26:58 INFO mapreduce.Job:  map 12% reduce 0%\n",
      "17/12/02 11:31:22 INFO mapreduce.Job:  map 13% reduce 0%\n",
      "17/12/02 11:36:12 INFO mapreduce.Job:  map 14% reduce 0%\n",
      "17/12/02 11:41:06 INFO mapreduce.Job:  map 15% reduce 0%\n",
      "17/12/02 11:46:00 INFO mapreduce.Job:  map 16% reduce 0%\n",
      "17/12/02 11:50:56 INFO mapreduce.Job:  map 17% reduce 0%\n",
      "17/12/02 11:55:51 INFO mapreduce.Job:  map 18% reduce 0%\n",
      "17/12/02 12:00:46 INFO mapreduce.Job:  map 19% reduce 0%\n",
      "17/12/02 12:02:01 INFO mapreduce.Job:  map 19% reduce 1%\n",
      "^C\n",
      "CPU times: user 2min 23s, sys: 13.4 s, total: 2min 36s\n",
      "Wall time: 1h 27min 48s\n"
     ]
    }
   ],
   "source": [
    "%%time\n",
    "!hdfs dfs -rm -r 677project/output/hadoopoutput/dump.ch2oh99_prod.lammpstrj\n",
    "!yarn jar /usr/hdp/current/hadoop-mapreduce-client/hadoop-streaming.jar \\\n",
    "    -input 677project/data/dump.ch2oh99_prod.lammpstrj \\\n",
    "    -inputformat org.apache.hadoop.mapred.lib.NLineInputFormat \\\n",
    "    -jobconf mapreduce.input.lineinputformat.linespermap=1755 \\\n",
    "    -jobconf mapred.reduce.tasks=50 \\\n",
    "    -jobconf mapreduce.job.reduces=50 \\\n",
    "    -jobconf mapreduce.reduce.java.opts=-Xmx4096m \\\n",
    "    -jobconf yarn.nodemanager.resource.memory-mb=4096 \\\n",
    "    -jobconf yarn.scheduler.minimum-allocation-mb=2048 \\\n",
    "    -jobconf yarn.scheduler.maximum-allocation-mb=8192 \\\n",
    "    -jobconf mapreduce.map.memory.mb=8192 \\\n",
    "    -jobconf mapreduce.reduce.memory.mb=4096 \\\n",
    "    -jobconf yarn.app.mapreduce.am.resource.mb=8192 \\\n",
    "    -output 677project/output/hadoopoutput/dump.ch2oh99_prod.lammpstrj \\\n",
    "    -file ./codes/Mapper01.py \\\n",
    "    -mapper Mapper01.py \\\n",
    "    -file ./codes/Reducer01.py \\\n",
    "    -reducer Reducer01.py"
   ]
  },
  {
   "cell_type": "code",
   "execution_count": null,
   "metadata": {
    "collapsed": true
   },
   "outputs": [],
   "source": [
    "!hdfs dfs -ls 677project/output/hadoopoutput/dump.ch2oh66_prod.lammpstrj\n",
    "\n",
    "!hdfs dfs -cat 677project/output/hadoopoutput/dump.ch2oh66_prod.lammpstrj/part-00000 \\\n",
    "    2>/dev/null | wc -l\n",
    "\n",
    "!hdfs dfs -cat 677project/output/hadoopoutput/dump.ch2oh66_prod.lammpstrj/part-00000 \\\n",
    "    2>/dev/null | head -n 50"
   ]
  },
  {
   "cell_type": "code",
   "execution_count": null,
   "metadata": {
    "collapsed": true
   },
   "outputs": [],
   "source": [
    "!hdfs dfs -cat 677project/data/dump.ch2oh99_prod.lammpstrj \\\n",
    "    2>/dev/null | wc -l"
   ]
  },
  {
   "cell_type": "code",
   "execution_count": null,
   "metadata": {
    "collapsed": true
   },
   "outputs": [],
   "source": [
    "!hdfs dfs -cat 677project/data/dump.ch2oh66_prod.lammpstrj \\\n",
    "    2>/dev/null | tail -n +785 | head"
   ]
  },
  {
   "cell_type": "code",
   "execution_count": null,
   "metadata": {
    "collapsed": true
   },
   "outputs": [],
   "source": [
    "!hdfs dfs -rm -r 677project/output/output01\n",
    "!yarn jar /usr/hdp/current/hadoop-mapreduce-client/hadoop-streaming.jar \\\n",
    "    -input 677project/data/dump.co.lammpstrj \\\n",
    "    -output 677project/output/output02 \\\n",
    "    -file ./codes/Mapper01.py \\\n",
    "    -mapper Mapper01.py "
   ]
  },
  {
   "cell_type": "code",
   "execution_count": null,
   "metadata": {
    "collapsed": true
   },
   "outputs": [],
   "source": [
    "!hdfs dfs -copyFromLocal ./data/ch2oh_dump_1ns.lammpstrj 677project/data"
   ]
  },
  {
   "cell_type": "code",
   "execution_count": 8,
   "metadata": {},
   "outputs": [
    {
     "name": "stdout",
     "output_type": "stream",
     "text": [
      "Deleted 677project/output/sparkoutput\r\n"
     ]
    }
   ],
   "source": [
    "!hdfs dfs -l 677project/output/sparkoutput"
   ]
  },
  {
   "cell_type": "code",
   "execution_count": null,
   "metadata": {
    "collapsed": true
   },
   "outputs": [],
   "source": [
    "!yarn logs -applicationId application_1510258389716_0046 \\\n",
    "    | grep -v INFO"
   ]
  },
  {
   "cell_type": "code",
   "execution_count": null,
   "metadata": {
    "collapsed": true
   },
   "outputs": [],
   "source": [
    "    -jobconf mapred.reduce.tasks=10 \\\n",
    "    -jobconf mapreduce.job.reduces=10 \\\n",
    "    -jobconf mapreduce.reduce.java.opts=-Xmx4096m \\\n",
    "    -jobconf yarn.nodemanager.resource.memory-mb=4096 \\\n",
    "    -jobconf yarn.scheduler.minimum-allocation-mb=2048 \\\n",
    "    -jobconf yarn.scheduler.maximum-allocation-mb=8192 \\\n",
    "    -jobconf mapreduce.map.memory.mb=8192 \\\n",
    "    -jobconf mapreduce.reduce.memory.mb=4096 \\\n",
    "    -jobconf yarn.app.mapreduce.am.resource.mb=8192 "
   ]
  }
 ],
 "metadata": {
  "kernelspec": {
   "display_name": "Python 3 (Anaconda)",
   "language": "python",
   "name": "anaconda_py3"
  },
  "language_info": {
   "codemirror_mode": {
    "name": "ipython",
    "version": 3
   },
   "file_extension": ".py",
   "mimetype": "text/x-python",
   "name": "python",
   "nbconvert_exporter": "python",
   "pygments_lexer": "ipython3",
   "version": "3.5.2"
  }
 },
 "nbformat": 4,
 "nbformat_minor": 2
}
